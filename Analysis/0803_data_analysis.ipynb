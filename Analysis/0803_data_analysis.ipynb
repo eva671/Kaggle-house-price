{
 "cells": [
  {
   "cell_type": "markdown",
   "id": "42722f39",
   "metadata": {},
   "source": [
    "### Kaggle Project - Titanic \n",
    "Download data to the Data folder via Kaggle API"
   ]
  },
  {
   "cell_type": "code",
   "execution_count": 4,
   "id": "ca7f307b",
   "metadata": {},
   "outputs": [
    {
     "name": "stdout",
     "output_type": "stream",
     "text": [
      "Downloading titanic.zip to /Users/liue/Documents/Kaggle project/House price/Data\n",
      "100%|███████████████████████████████████████| 34.1k/34.1k [00:00<00:00, 194kB/s]\n",
      "100%|███████████████████████████████████████| 34.1k/34.1k [00:00<00:00, 193kB/s]\n"
     ]
    }
   ],
   "source": [
    "!kaggle competitions download -c titanic -p \"/Users/liue/Documents/Kaggle project/House price/Data\""
   ]
  },
  {
   "cell_type": "code",
   "execution_count": null,
   "id": "f376f6a3",
   "metadata": {},
   "outputs": [],
   "source": []
  }
 ],
 "metadata": {
  "kernelspec": {
   "display_name": "Python 3 (ipykernel)",
   "language": "python",
   "name": "python3"
  },
  "language_info": {
   "codemirror_mode": {
    "name": "ipython",
    "version": 3
   },
   "file_extension": ".py",
   "mimetype": "text/x-python",
   "name": "python",
   "nbconvert_exporter": "python",
   "pygments_lexer": "ipython3",
   "version": "3.11.2"
  }
 },
 "nbformat": 4,
 "nbformat_minor": 5
}
